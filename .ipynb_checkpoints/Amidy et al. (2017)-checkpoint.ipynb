{
 "cells": [
  {
   "cell_type": "markdown",
   "metadata": {},
   "source": [
    "## Abstract\n",
    "\n",
    "* assess impact of grazing system (paddock division) and stocking rate (SR) on long-term profitablity of a specific enterprise. \n",
    "In particular, the impact of:\n",
    "* infrastructure costs\n",
    "* debt\n",
    "* downside risk\n",
    "on \"whole farm performance\".\n",
    "\n",
    "These are examined over a 10-year \"planning horizon\".\n",
    "\n",
    "12 different strategies (treatments, combination of number of paddocks and SR) are modelled.\n",
    "* 1, 4, and 20 paddock rotations\n",
    "* 3, 4.2, 5.3 and 7 ewes/ha\n",
    "\n",
    "The model includes both price and climate risk (is this the stochastic element?)\n",
    "\n",
    "### Abstract results\n",
    "\n",
    "Profitability primarily driven by SR. \n",
    "* in general, higher SR increased output and profits under favourable conditions\n",
    "* higher SR associated with higher costs and greater downside risk in poor seasons\n",
    "    * this is magnified by compounding debt over time\n",
    "\n",
    "When SR increased above 4.2 ewes/ha, it had a negative impact on lamb sale weights.\n",
    "* this results in lower prices for sub-40kg lambs\n",
    "This was offset by higher production volumes at 5.3 ewes/ha.\n",
    "\n",
    "There is a decline in profitability at 7 ewes/ha.\n",
    "* result of large increase in supplemental feed costs\n",
    "* lambs not meeting sale weight specs\n",
    "\n",
    "The analytical scale of the analysis also had an impact on the relative profitability between alternative treatments.\n",
    "* when assessed on gross margin/ha, little difference between paddock systems at same SR.\n",
    "\n",
    "When costs of additional feeding and water infrastructure included (not using gross margin? net margin?), 20 paddock system markedly less profitable than 1 and 4 paddock rotations.  \n",
    "* \"This highlights the need for assessing production systems at an appropriate analytical and temporal scale to better understand the relationship between the key drivers of long-term profitability and risk.\" Yes, the \"scale\" (am I understanding this correctly?) must include costs if we want to understand profit. --- later note: gorss margin includes direct (variable) costs but not capital costs e.g. depreciation.\n",
    "\n",
    "Four best performing strategies produce relatively similar results.\n",
    "\n",
    "Proposed optimal: 4.2 ewes/ha and 1 or 4-paddock system.\n"
   ]
  },
  {
   "cell_type": "markdown",
   "metadata": {},
   "source": [
    "## Discussion\n",
    "\n",
    "No significant difference in output between PS (paddock system) at the same SR.\n",
    "\n",
    "Increased stocking rates beyond 4.2 ewes/ha associated with small increases in production and long term profitability and higher levels of downside risk. \n",
    "\n",
    "At 3 ewes/ha, pasture not limiting production (no significant per-head penalty when increase SR to 4.2).\n",
    "* note increase to lambs sold is in light, not trade (>= 40kg) category.\n",
    "\n",
    "How the different systems are ranked depends on measures: ROE, profitability. \n",
    "* downside risk is important\n",
    "\n",
    "Importance of downside risk. The more capital-intensive treatment (P04-SR5.3 vs P01-SR4.2) has a higher ROE but more variable profits; bad years are more bad than good years are good, since rates paid on debt are higher than on deposits. \n",
    "This results in a higher CROE for P01-SR4.2. \n",
    "\n",
    "s.d is a problematic measurement of risk (see Question 6).\n",
    "\n",
    "### Limitations\n",
    "\n",
    "Inability of the biophysical model to accurately predict the difference in key sustainability indicators between PS including: \n",
    "* total pasture dry matter\n",
    "* ground cover\n",
    "\n",
    "This may have implications for the capacity of AusFarm to model the long-term intertemporal dynamics of pasture persistence and botanical composition and the impacts of these dynamics on profitability. \n",
    "\n"
   ]
  },
  {
   "cell_type": "markdown",
   "metadata": {},
   "source": [
    "## Introduction\n",
    "\n",
    "Shift in recent decades to rotational grazing from continuous grazing. \n",
    "\n",
    "McIvor (2013) suggests comparisons between the two are often confounded by other changes, especially stocking rate.\n",
    "\n",
    "Studies have also focused on improved pastures, not native. \n",
    "\n",
    "Thus limited empirical data on the effects of increased graxing intensity on native pastures. Also limited analysis of costs associated with additional capital/infrastructure costs required for higher intensity grazing rotations.\n",
    "\n",
    "Previous studies suggest that rotational grazing systems have the capacity to increase per hectare production with higher stocking rates but that this can decrease per animal performance.\n",
    "* this can affect profitability through sub-specification animals\n",
    "\n",
    "Complex interactions between:\n",
    "* SR\n",
    "* grazing intensity\n",
    "* rotation speed\n",
    "* impact of spacial heterogeneity and scale\n",
    "These make replicating experiments difficult.\n",
    "Presumably generalisation of results also difficult.\n",
    "\n",
    "Experimental studies tend to be short term (2-4 years).\n",
    "\n",
    "**Post-experimental modelling can overcome these limitations** and add value to experimental data.\n",
    "\n",
    "The aims of this paper go further than Broadfoot et al. (2017) and Badgery et al. (2017a and b):\n",
    "1. assess the impact of SR and PS under different measurements of profitability (? actually says \"contrasting temporal and analytical scales\")\n",
    "2. determine the effects of addtional infrastructure costs of higher intensity systems.\n"
   ]
  },
  {
   "cell_type": "markdown",
   "metadata": {},
   "source": [
    "## Methods\n",
    "\n"
   ]
  },
  {
   "cell_type": "markdown",
   "metadata": {},
   "source": [
    "## Questions\n",
    "\n",
    "1. \"whole farm performance\"\n",
    "2. 10-year \"planning horizon\"\n",
    "3. price and climate risk (is this the stochastic element?)\n",
    "4. \"The analytical scale of the analysis also had an impact on the relative profitability between alternative treatments\". \"contrasting temporal and analytical scales\"\n",
    "5. why only simulate for 12 cases – is this enough to observe relationships? Would be interesting to plot the surface\n",
    "6. \"It is important to note that although s.d. did not differ greatly between PS at the same SR, CVar and Var were much lower in the P20 system than the P01 and P04 systems, indicating higher downside risk. This illustrates the limitation of using s.d. as a measure of risk, particularly when distributions are skewed by the impacts of tax and interest.\" What are Var and CVar - value-at-risk?\n",
    "7. Why 1, 4 and 20 paddocks? This is the same as Broadfoot et al. (2017)\n",
    "8. same biophysical model, different pricing model? \n",
    "\n",
    "\n",
    "### General questions\n",
    "\n",
    "1. Will I be working in Python?"
   ]
  },
  {
   "cell_type": "code",
   "execution_count": null,
   "metadata": {},
   "outputs": [],
   "source": []
  }
 ],
 "metadata": {
  "kernelspec": {
   "display_name": "Python 3",
   "language": "python",
   "name": "python3"
  },
  "language_info": {
   "codemirror_mode": {
    "name": "ipython",
    "version": 3
   },
   "file_extension": ".py",
   "mimetype": "text/x-python",
   "name": "python",
   "nbconvert_exporter": "python",
   "pygments_lexer": "ipython3",
   "version": "3.8.5"
  }
 },
 "nbformat": 4,
 "nbformat_minor": 4
}
